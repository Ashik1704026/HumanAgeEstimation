{
 "cells": [
  {
   "cell_type": "code",
   "execution_count": null,
   "metadata": {},
   "outputs": [],
   "source": [
    "from tensorflow.keras.layers import GlobalAveragePooling2D, Reshape, Dense, Input, Multiply"
   ]
  },
  {
   "cell_type": "code",
   "execution_count": null,
   "metadata": {},
   "outputs": [],
   "source": [
    "def SqueezeAndExcitation(inputs, ratio=8):\n",
    "    b, _, _, c = inputs.shape\n",
    "    x = GlobalAveragePooling2D()(inputs)\n",
    "    x = Dense(c//ratio, activation=\"relu\", use_bias=False)(x)\n",
    "    x = Dense(c, activation=\"sigmoid\", use_bias=False)(x)\n",
    "    #x = inputs * x\n",
    "    x = Multiply()([x, inputs])\n",
    "    return x\n"
   ]
  },
  {
   "cell_type": "code",
   "execution_count": null,
   "metadata": {
    "_cell_guid": "b1076dfc-b9ad-4769-8c92-a6c4dae69d19",
    "_uuid": "8f2839f25d086af736a60e9eeb907d3b93b6e0e5",
    "execution": {
     "iopub.execute_input": "2023-05-12T10:00:36.907750Z",
     "iopub.status.busy": "2023-05-12T10:00:36.907230Z",
     "iopub.status.idle": "2023-05-12T10:00:36.986759Z",
     "shell.execute_reply": "2023-05-12T10:00:36.985451Z",
     "shell.execute_reply.started": "2023-05-12T10:00:36.907708Z"
    }
   },
   "outputs": [],
   "source": [
    "import os\n",
    "import pandas as pd\n",
    "\n",
    "# set path to folder containing image files\n",
    "folder_path = 'input/utk-face-cropped/utkcropped/'\n",
    "\n",
    "# create an empty list to store file names and ages\n",
    "file_list = []\n",
    "\n",
    "# loop through files in the folder\n",
    "for filename in os.listdir(folder_path):\n",
    "    # print(filename)\n",
    "    if filename.endswith('.jpg'):  \n",
    "        age = int(filename.split('_')[0])\n",
    "        file_list.append((filename, age))\n",
    "\n",
    "        \n",
    "df = pd.DataFrame(file_list, columns=['filename', 'age'])\n",
    "\n",
    "# print the dataframe\n",
    "df.head()\n"
   ]
  },
  {
   "cell_type": "code",
   "execution_count": null,
   "metadata": {
    "execution": {
     "iopub.execute_input": "2023-05-12T09:57:35.657070Z",
     "iopub.status.busy": "2023-05-12T09:57:35.656590Z",
     "iopub.status.idle": "2023-05-12T09:57:35.678130Z",
     "shell.execute_reply": "2023-05-12T09:57:35.677029Z",
     "shell.execute_reply.started": "2023-05-12T09:57:35.657033Z"
    }
   },
   "outputs": [],
   "source": [
    "pd.set_option('display.max_rows', None)\n",
    "print(df['age'].value_counts().sort_index(axis = 0))"
   ]
  },
  {
   "cell_type": "code",
   "execution_count": null,
   "metadata": {
    "execution": {
     "iopub.execute_input": "2023-05-12T10:00:41.013639Z",
     "iopub.status.busy": "2023-05-12T10:00:41.011978Z",
     "iopub.status.idle": "2023-05-12T10:00:50.943683Z",
     "shell.execute_reply": "2023-05-12T10:00:50.942210Z",
     "shell.execute_reply.started": "2023-05-12T10:00:41.013558Z"
    }
   },
   "outputs": [],
   "source": [
    "# Import dependencies\n",
    "import pandas as pd\n",
    "import numpy as np\n",
    "import matplotlib.pyplot as plt\n",
    "import cv2\n",
    "import os\n",
    "from zipfile import ZipFile\n",
    "import time\n",
    "from datetime import datetime\n",
    "import itertools\n",
    "from sklearn.model_selection import train_test_split\n",
    "from sklearn.metrics import confusion_matrix\n",
    "import tensorflow as tf\n",
    "import tensorflow_addons as tfa\n",
    "from tensorflow import keras\n",
    "from tensorflow.keras.models import Sequential\n",
    "from tensorflow.keras.layers import Dense\n",
    "from tensorflow.keras.layers import Conv2D, AveragePooling2D, GlobalAveragePooling2D\n",
    "from tensorflow.keras import utils, layers, Input, Model\n",
    "from tensorflow.keras.callbacks import TensorBoard, ModelCheckpoint\n",
    "from tensorflow.keras.layers import Dense,GlobalAveragePooling2D,Convolution2D,BatchNormalization\n",
    "from tensorflow.keras.layers import Flatten,MaxPooling2D,Dropout\n",
    "\n",
    "\n",
    "np.random.seed(42)\n",
    "tf.random.set_seed(42)"
   ]
  },
  {
   "cell_type": "code",
   "execution_count": null,
   "metadata": {
    "execution": {
     "iopub.execute_input": "2023-05-12T10:00:50.946857Z",
     "iopub.status.busy": "2023-05-12T10:00:50.946066Z",
     "iopub.status.idle": "2023-05-12T10:00:50.961528Z",
     "shell.execute_reply": "2023-05-12T10:00:50.959605Z",
     "shell.execute_reply.started": "2023-05-12T10:00:50.946814Z"
    }
   },
   "outputs": [],
   "source": [
    "from sklearn.model_selection import train_test_split\n",
    "\n",
    "train, test = train_test_split(df, test_size=0.2, random_state=42)\n",
    "print(\"Training set shape: \", train.shape)\n",
    "print(\"Testing set shape: \", test.shape)"
   ]
  },
  {
   "cell_type": "code",
   "execution_count": null,
   "metadata": {
    "execution": {
     "iopub.execute_input": "2023-05-04T06:34:07.278220Z",
     "iopub.status.busy": "2023-05-04T06:34:07.277870Z",
     "iopub.status.idle": "2023-05-04T06:34:07.374343Z",
     "shell.execute_reply": "2023-05-04T06:34:07.373368Z",
     "shell.execute_reply.started": "2023-05-04T06:34:07.278192Z"
    }
   },
   "outputs": [],
   "source": [
    "\n",
    "folder_path_facial_age = '/kaggle/input/facial-age/face_age/'\n",
    "\n",
    "\n",
    "file_list_facial_age = []\n",
    "\n",
    "# loop through files in the folder\n",
    "for foldername in os.listdir(folder_path_facial_age):\n",
    "    # print(foldername)\n",
    "    for filename_facial_age in os.listdir(folder_path_facial_age+foldername):\n",
    "        if filename_facial_age.endswith('.png'):  \n",
    "            age = int(foldername)\n",
    "            file_list_facial_age.append((filename_facial_age, age))\n",
    "        \n",
    "df_facial_age = pd.DataFrame(file_list_facial_age, columns=['filename', 'age'])\n",
    "\n",
    "# print the dataframe\n",
    "train = train.append(df_facial_age, ignore_index=True)\n",
    "train"
   ]
  },
  {
   "cell_type": "code",
   "execution_count": null,
   "metadata": {
    "execution": {
     "iopub.execute_input": "2023-05-10T04:22:17.057923Z",
     "iopub.status.busy": "2023-05-10T04:22:17.057547Z",
     "iopub.status.idle": "2023-05-10T04:31:58.611717Z",
     "shell.execute_reply": "2023-05-10T04:31:58.610679Z",
     "shell.execute_reply.started": "2023-05-10T04:22:17.057893Z"
    }
   },
   "outputs": [],
   "source": [
    "import imgaug.augmenters as iaa\n",
    "from PIL import Image\n",
    "import numpy as np\n",
    "\n",
    "save_folder_path = 'working/augmented/'\n",
    "os.mkdir(save_folder_path)\n",
    "\n",
    "\n",
    "\n",
    "# create image augmenter object\n",
    "seq1 = iaa.Sequential([\n",
    "    iaa.Fliplr(1),  # apply horizontal flipping with 50% probability\n",
    "])\n",
    "seq2 = iaa.Sequential([\n",
    "    iaa.Affine(rotate=(-20)),  # apply 20-degree clockwise or anti-clockwise rotation\n",
    "])\n",
    "seq3 = iaa.Sequential([\n",
    "    iaa.Affine(rotate=(20)),  # apply 20-degree clockwise or anti-clockwise rotation\n",
    "])\n",
    "seq4 = iaa.Sequential([\n",
    "    iaa.Affine(rotate=(-40)),  # apply 20-degree clockwise or anti-clockwise rotation\n",
    "])\n",
    "seq5 = iaa.Sequential([\n",
    "    iaa.Affine(rotate=(20)),  # apply 20-degree clockwise or anti-clockwise rotation\n",
    "])\n",
    "\n",
    "# loop through rows in the dataframe\n",
    "for index, row in train.iterrows():\n",
    "    # get the file name and label from the dataframe\n",
    "    filename = row['filename']\n",
    "    label = row['age']\n",
    "    # open the image file\n",
    "    img = Image.open(os.path.join(folder_path, filename))\n",
    "    # convert the image to numpy array\n",
    "    img_array = np.array(img)\n",
    "    Image.fromarray(img_array).save(os.path.join(save_folder_path, \"augmented0_\" + filename))\n",
    "    # apply image augmentations\n",
    "    img_aug2 = seq2(image=img_array)\n",
    "    # save the augmented image to a file\n",
    "    Image.fromarray(img_aug2).save(os.path.join(save_folder_path, \"augmented1_\" + filename))\n",
    "    \n",
    "    img_aug3 = seq3(image=img_array)\n",
    "    Image.fromarray(img_aug3).save(os.path.join(save_folder_path, \"augmented2_\" + filename))\n",
    "    \n",
    "    img_aug4 = seq4(image=img_array)\n",
    "    Image.fromarray(img_aug4).save(os.path.join(save_folder_path, \"augmented3_\" + filename))\n",
    "    \n",
    "    img_aug5 = seq5(image=img_array)\n",
    "    Image.fromarray(img_aug5).save(os.path.join(save_folder_path, \"augmented4_\" + filename))\n",
    "    \n",
    "    img_aug6 = seq1(image=img_array)\n",
    "    Image.fromarray(img_aug6).save(os.path.join(save_folder_path, \"augmented5_\" + filename))\n",
    "    \n",
    "    img_aug7 = seq2(image=img_aug6)\n",
    "    Image.fromarray(img_aug7).save(os.path.join(save_folder_path, \"augmented6_\" + filename))\n",
    "    \n",
    "    img_aug8 = seq3(image=img_aug6)\n",
    "    Image.fromarray(img_aug8).save(os.path.join(save_folder_path, \"augmented7_\" + filename))\n",
    "    \n",
    "    img_aug9 = seq4(image=img_aug6)\n",
    "    Image.fromarray(img_aug9).save(os.path.join(save_folder_path, \"augmented8_\" + filename))\n",
    "    \n",
    "    img_aug10 = seq5(image=img_aug6)\n",
    "    Image.fromarray(img_aug10).save(os.path.join(save_folder_path, \"augmented9_\" + filename))\n"
   ]
  },
  {
   "cell_type": "code",
   "execution_count": null,
   "metadata": {
    "execution": {
     "iopub.execute_input": "2023-05-12T10:00:27.002906Z",
     "iopub.status.busy": "2023-05-12T10:00:27.002411Z",
     "iopub.status.idle": "2023-05-12T10:00:27.008262Z",
     "shell.execute_reply": "2023-05-12T10:00:27.007098Z",
     "shell.execute_reply.started": "2023-05-12T10:00:27.002868Z"
    }
   },
   "outputs": [],
   "source": [
    "train_aug_df = pd.DataFrame\n",
    "test_df = pd.DataFrame"
   ]
  },
  {
   "cell_type": "code",
   "execution_count": null,
   "metadata": {
    "execution": {
     "iopub.execute_input": "2023-05-10T04:33:59.195634Z",
     "iopub.status.busy": "2023-05-10T04:33:59.195169Z",
     "iopub.status.idle": "2023-05-10T04:33:59.673138Z",
     "shell.execute_reply": "2023-05-10T04:33:59.672102Z",
     "shell.execute_reply.started": "2023-05-10T04:33:59.195597Z"
    }
   },
   "outputs": [],
   "source": [
    "folder_path = 'working/augmented/'\n",
    "\n",
    "file_list = []\n",
    "\n",
    "# loop through files in the folder\n",
    "for filename in os.listdir(folder_path):\n",
    "    # print(filename)\n",
    "    if filename.endswith('.jpg'):  \n",
    "        age = int(filename.split('_')[1])\n",
    "    \n",
    "        file_list.append((filename, age))\n",
    "        \n",
    "        \n",
    "train_df = pd.DataFrame(file_list, columns=['filename', 'age'])\n",
    "\n",
    "# print the dataframe\n",
    "train_df.head()"
   ]
  },
  {
   "cell_type": "code",
   "execution_count": null,
   "metadata": {},
   "outputs": [],
   "source": [
    "train_aug_df = train_df.copy()\n",
    "test_df = test.copy()"
   ]
  },
  {
   "cell_type": "code",
   "execution_count": null,
   "metadata": {
    "execution": {
     "iopub.execute_input": "2023-05-12T10:01:03.853456Z",
     "iopub.status.busy": "2023-05-12T10:01:03.852976Z",
     "iopub.status.idle": "2023-05-12T10:01:03.860327Z",
     "shell.execute_reply": "2023-05-12T10:01:03.858872Z",
     "shell.execute_reply.started": "2023-05-12T10:01:03.853414Z"
    }
   },
   "outputs": [],
   "source": [
    "train_aug_df = train.copy()\n",
    "test_df = test.copy()"
   ]
  },
  {
   "cell_type": "code",
   "execution_count": null,
   "metadata": {
    "execution": {
     "iopub.execute_input": "2023-05-12T10:01:13.626408Z",
     "iopub.status.busy": "2023-05-12T10:01:13.625920Z",
     "iopub.status.idle": "2023-05-12T10:01:13.634625Z",
     "shell.execute_reply": "2023-05-12T10:01:13.632794Z",
     "shell.execute_reply.started": "2023-05-12T10:01:13.626370Z"
    }
   },
   "outputs": [],
   "source": [
    "train_df = train.copy()"
   ]
  },
  {
   "cell_type": "code",
   "execution_count": null,
   "metadata": {
    "execution": {
     "iopub.execute_input": "2023-05-12T10:01:15.631759Z",
     "iopub.status.busy": "2023-05-12T10:01:15.631132Z",
     "iopub.status.idle": "2023-05-12T10:01:15.638682Z",
     "shell.execute_reply": "2023-05-12T10:01:15.637282Z",
     "shell.execute_reply.started": "2023-05-12T10:01:15.631712Z"
    }
   },
   "outputs": [],
   "source": [
    "print(len(train_aug_df))\n",
    "print(len(test_df))"
   ]
  },
  {
   "cell_type": "code",
   "execution_count": null,
   "metadata": {
    "execution": {
     "iopub.execute_input": "2023-05-12T10:01:18.452071Z",
     "iopub.status.busy": "2023-05-12T10:01:18.451608Z",
     "iopub.status.idle": "2023-05-12T10:01:18.868080Z",
     "shell.execute_reply": "2023-05-12T10:01:18.866811Z",
     "shell.execute_reply.started": "2023-05-12T10:01:18.452035Z"
    }
   },
   "outputs": [],
   "source": [
    "new_folder_name = 'input/utk-face-cropped/utkcropped'\n",
    "def add_folder_name(row):\n",
    "    return f\"{new_folder_name}/{row['filename']}\"\n",
    "\n",
    "# apply the function to the 'File Name' column in the dataframe\n",
    "train_aug_df['filename'] = train_df.apply(add_folder_name, axis=1)\n",
    "\n",
    "\n",
    "\n",
    "new_folder_name = 'input/utk-face-cropped/utkcropped'\n",
    "def add_ftest_folder_name(row):\n",
    "    return f\"{new_folder_name}/{row['filename']}\"\n",
    "\n",
    "test_df['filename'] = test_df.apply(add_ftest_folder_name, axis=1)\n",
    "\n",
    "print(train_aug_df.head())\n",
    "print(test_df.head())\n",
    "\n",
    "print(len(train_aug_df))\n",
    "print(len(test_df))"
   ]
  },
  {
   "cell_type": "code",
   "execution_count": null,
   "metadata": {
    "execution": {
     "iopub.execute_input": "2023-05-10T04:34:18.342572Z",
     "iopub.status.busy": "2023-05-10T04:34:18.342153Z",
     "iopub.status.idle": "2023-05-10T04:34:21.272592Z",
     "shell.execute_reply": "2023-05-10T04:34:21.271385Z",
     "shell.execute_reply.started": "2023-05-10T04:34:18.342534Z"
    }
   },
   "outputs": [],
   "source": [
    "new_folder_name = '/working/augmented'\n",
    "def add_folder_name(row):\n",
    "    return f\"{new_folder_name}/{row['filename']}\"\n",
    "\n",
    "\n",
    "train_aug_df['filename'] = train_df.apply(add_folder_name, axis=1)\n",
    "\n",
    "\n",
    "\n",
    "new_folder_name = '/input/utk-face-cropped/utkcropped'\n",
    "def add_ftest_folder_name(row):\n",
    "    return f\"{new_folder_name}/{row['filename']}\"\n",
    "\n",
    "test_df['filename'] = test_df.apply(add_ftest_folder_name, axis=1)\n",
    "\n",
    "print(train_aug_df.head())\n",
    "print(test_df.head())\n",
    "\n",
    "print(len(train_aug_df))\n",
    "print(len(test_df))"
   ]
  },
  {
   "cell_type": "code",
   "execution_count": null,
   "metadata": {
    "execution": {
     "iopub.execute_input": "2023-05-12T10:02:23.039553Z",
     "iopub.status.busy": "2023-05-12T10:02:23.039020Z",
     "iopub.status.idle": "2023-05-12T10:02:23.123389Z",
     "shell.execute_reply": "2023-05-12T10:02:23.121815Z",
     "shell.execute_reply.started": "2023-05-12T10:02:23.039511Z"
    }
   },
   "outputs": [],
   "source": [
    "\n",
    "def class_labels_reassign(age):\n",
    "    if age == 1:\n",
    "        return 0\n",
    "    elif age == 2:\n",
    "        return 1\n",
    "    elif age == 3:\n",
    "        return 2\n",
    "    elif age == 4:\n",
    "        return 3\n",
    "    elif age == 5:\n",
    "        return 4\n",
    "    elif age == 6:\n",
    "        return 5\n",
    "    elif age == 7:\n",
    "        return 6\n",
    "    elif age == 8:\n",
    "        return 7\n",
    "    elif age == 9:\n",
    "        return 8\n",
    "    elif age == 10:\n",
    "        return 9\n",
    "    elif age == 11:\n",
    "        return 10\n",
    "    elif age == 12:\n",
    "        return 11\n",
    "    elif age == 13:\n",
    "        return 12\n",
    "    elif age == 14:\n",
    "        return 13\n",
    "    elif age == 15:\n",
    "        return 14\n",
    "    elif age == 16:\n",
    "        return 15\n",
    "    elif age == 17:\n",
    "        return 16\n",
    "    elif age == 18:\n",
    "        return 17\n",
    "    elif age == 19:\n",
    "        return 18\n",
    "    elif age == 20:\n",
    "        return 19\n",
    "    elif age == 21:\n",
    "        return 20\n",
    "    elif age == 22:\n",
    "        return 21\n",
    "    elif age == 23:\n",
    "        return 22\n",
    "    elif age == 24:\n",
    "        return 23\n",
    "    elif age == 25:\n",
    "        return 24\n",
    "    elif age == 26:\n",
    "        return 25\n",
    "    elif age == 27:\n",
    "        return 26\n",
    "    elif age == 28:\n",
    "        return 27\n",
    "    elif age == 29:\n",
    "        return 28\n",
    "    elif age == 30:\n",
    "        return 29\n",
    "    elif age == 31:\n",
    "        return 30\n",
    "    elif age == 32:\n",
    "        return 31\n",
    "    elif age == 33:\n",
    "        return 32\n",
    "    elif age == 34:\n",
    "        return 33\n",
    "    elif age == 35:\n",
    "        return 34\n",
    "    elif age == 36:\n",
    "        return 35\n",
    "    elif age == 37:\n",
    "        return 36\n",
    "    elif age == 38:\n",
    "        return 37\n",
    "    elif age == 39:\n",
    "        return 38\n",
    "    elif age == 40:\n",
    "        return 39\n",
    "    elif age == 41:\n",
    "        return 40\n",
    "    elif age == 42:\n",
    "        return 41\n",
    "    elif age == 43:\n",
    "        return 42\n",
    "    elif age == 44:\n",
    "        return 43\n",
    "    elif age == 45:\n",
    "        return 44\n",
    "    elif age == 46:\n",
    "        return 45\n",
    "    elif age == 47:\n",
    "        return 46\n",
    "    elif age == 48:\n",
    "        return 47\n",
    "    elif age == 49:\n",
    "        return 48\n",
    "    elif age == 50:\n",
    "        return 49\n",
    "    elif age == 51:\n",
    "        return 50\n",
    "    elif age == 52:\n",
    "        return 51\n",
    "    elif age == 53:\n",
    "        return 52\n",
    "    elif age == 54:\n",
    "        return 53\n",
    "    elif age == 55:\n",
    "        return 54\n",
    "    elif age == 56:\n",
    "        return 55\n",
    "    elif age == 57:\n",
    "        return 56\n",
    "    elif age == 58:\n",
    "        return 57\n",
    "    elif age == 59:\n",
    "        return 58\n",
    "    elif age == 60:\n",
    "        return 59\n",
    "    elif age == 61:\n",
    "        return 60\n",
    "    elif age == 62:\n",
    "        return 61\n",
    "    elif age == 63:\n",
    "        return 62\n",
    "    elif age == 64:\n",
    "        return 63\n",
    "    elif age == 65:\n",
    "        return 64\n",
    "    elif age == 66:\n",
    "        return 65\n",
    "    elif age == 67:\n",
    "        return 66\n",
    "    elif age == 68:\n",
    "        return 67\n",
    "    elif age == 69:\n",
    "        return 68\n",
    "    elif age == 70:\n",
    "        return 69\n",
    "    elif age == 71:\n",
    "        return 70\n",
    "    elif age == 72:\n",
    "        return 71\n",
    "    elif age == 73:\n",
    "        return 72\n",
    "    elif age == 74:\n",
    "        return 73\n",
    "    elif age == 75:\n",
    "        return 74\n",
    "    elif age == 76:\n",
    "        return 75\n",
    "    elif age == 77:\n",
    "        return 76\n",
    "    elif age == 78:\n",
    "        return 77\n",
    "    elif age == 79:\n",
    "        return 78\n",
    "    elif age == 80:\n",
    "        return 79\n",
    "    elif age == 81:\n",
    "        return 80\n",
    "    elif age == 82:\n",
    "        return 81\n",
    "    elif age == 83:\n",
    "        return 82\n",
    "    elif age == 84:\n",
    "        return 83\n",
    "    elif age == 85:\n",
    "        return 84\n",
    "    elif age == 86:\n",
    "        return 85\n",
    "    elif age == 87:\n",
    "        return 86\n",
    "    elif age == 88:\n",
    "        return 87\n",
    "    elif age == 89:\n",
    "        return 88\n",
    "    elif age == 90:\n",
    "        return 89\n",
    "    elif age == 91:\n",
    "        return 90\n",
    "    elif age == 92:\n",
    "        return 91\n",
    "    elif age == 93:\n",
    "        return 92\n",
    "#     elif age == 94:\n",
    "#         return 93\n",
    "    elif age == 95:\n",
    "        return 93\n",
    "    elif age == 96:\n",
    "        return 94\n",
    "#     elif age == 97:\n",
    "#         return 95\n",
    "#     elif age == 98:\n",
    "#         return 97\n",
    "    elif age == 99:\n",
    "        return 95\n",
    "    elif age == 100:\n",
    "        return 96\n",
    "    elif age == 101:\n",
    "        return 97\n",
    "    elif age == 103:\n",
    "        return 98\n",
    "    elif age == 105:\n",
    "        return 99\n",
    "    elif age == 110:\n",
    "        return 100\n",
    "    elif age == 111:\n",
    "        return 101\n",
    "    elif age == 115:\n",
    "        return 102\n",
    "    else:\n",
    "        return 103\n",
    "        \n",
    "train_aug_df['target'] = train_aug_df['age'].map(class_labels_reassign)\n",
    "test_df['target'] = test_df['age'].map(class_labels_reassign)"
   ]
  },
  {
   "cell_type": "code",
   "execution_count": null,
   "metadata": {},
   "outputs": [],
   "source": [
    "pd.set_option('display.max_rows', None)\n",
    "print(train_aug_df.info())\n",
    "print(len(train_aug_df['age'].value_counts().sort_index(axis = 0)))\n",
    "print(train_aug_df['target'].value_counts().sort_index(axis = 0))"
   ]
  },
  {
   "cell_type": "code",
   "execution_count": null,
   "metadata": {
    "execution": {
     "iopub.execute_input": "2023-05-12T10:02:30.213887Z",
     "iopub.status.busy": "2023-05-12T10:02:30.213386Z",
     "iopub.status.idle": "2023-05-12T10:02:30.281004Z",
     "shell.execute_reply": "2023-05-12T10:02:30.279601Z",
     "shell.execute_reply.started": "2023-05-12T10:02:30.213851Z"
    }
   },
   "outputs": [],
   "source": [
    "# Converting the filenames and target class labels into lists for augmented train and test datasets.\n",
    "train_aug_filenames_list = list(train_aug_df['filename'])\n",
    "train_aug_labels_list = list(train_aug_df['target'])\n",
    "test_filenames_list = list(test_df['filename'])\n",
    "test_labels_list = list(test_df['target'])\n",
    "\n",
    "# Creating tensorflow constants of filenames and labels for augmented train and test datasets from the lists defined above.\n",
    "train_aug_filenames_tensor = tf.constant(train_aug_filenames_list)\n",
    "train_aug_labels_tensor = tf.constant(train_aug_labels_list)\n",
    "test_filenames_tensor = tf.constant(test_filenames_list)\n",
    "test_labels_tensor = tf.constant(test_labels_list)"
   ]
  },
  {
   "cell_type": "code",
   "execution_count": null,
   "metadata": {
    "execution": {
     "iopub.execute_input": "2023-05-12T10:02:44.063689Z",
     "iopub.status.busy": "2023-05-12T10:02:44.063136Z",
     "iopub.status.idle": "2023-05-12T10:02:44.213736Z",
     "shell.execute_reply": "2023-05-12T10:02:44.212669Z",
     "shell.execute_reply.started": "2023-05-12T10:02:44.063644Z"
    }
   },
   "outputs": [],
   "source": [
    "\n",
    "num_classes = 104\n",
    "def _parse_function(filename, label):   \n",
    "    image_string = tf.io.read_file(filename)\n",
    "    image_decoded = tf.io.decode_jpeg(image_string, channels=1)    \n",
    "    # image_resized = tf.image.resize(image_decoded, [128, 128])\n",
    "    # label = tf.one_hot(label, num_classes)\n",
    "    label = label\n",
    "    return image_decoded, label\n",
    "\n",
    "train_aug_dataset = tf.data.Dataset.from_tensor_slices((train_aug_filenames_tensor, train_aug_labels_tensor))\n",
    "train_aug_dataset = train_aug_dataset.map(_parse_function)\n",
    "# train_aug_dataset = train_aug_dataset.repeat(3)\n",
    "train_aug_dataset = train_aug_dataset.batch(128)   \n",
    "\n",
    "test_dataset = tf.data.Dataset.from_tensor_slices((test_filenames_tensor, test_labels_tensor))\n",
    "test_dataset = test_dataset.map(_parse_function)\n",
    "# test_dataset = test_dataset.repeat(3)\n",
    "test_dataset = test_dataset.batch(128)    "
   ]
  },
  {
   "cell_type": "code",
   "execution_count": null,
   "metadata": {
    "execution": {
     "iopub.execute_input": "2023-05-12T10:02:49.648848Z",
     "iopub.status.busy": "2023-05-12T10:02:49.648328Z",
     "iopub.status.idle": "2023-05-12T10:02:50.141185Z",
     "shell.execute_reply": "2023-05-12T10:02:50.139671Z",
     "shell.execute_reply.started": "2023-05-12T10:02:49.648806Z"
    }
   },
   "outputs": [],
   "source": [
    "train_aug_dataset\n",
    "image_batch, label_batch = next(iter(train_aug_dataset))\n",
    "print(image_batch.shape)\n",
    "print(label_batch)"
   ]
  },
  {
   "cell_type": "code",
   "execution_count": null,
   "metadata": {
    "execution": {
     "iopub.execute_input": "2023-05-12T05:47:58.007802Z",
     "iopub.status.busy": "2023-05-12T05:47:58.007419Z",
     "iopub.status.idle": "2023-05-12T05:47:58.241794Z",
     "shell.execute_reply": "2023-05-12T05:47:58.240656Z",
     "shell.execute_reply.started": "2023-05-12T05:47:58.007768Z"
    }
   },
   "outputs": [],
   "source": [
    "test_dataset\n",
    "image_batch, label_batch = next(iter(test_dataset))\n",
    "print(image_batch.shape)\n",
    "print(label_batch)"
   ]
  },
  {
   "cell_type": "code",
   "execution_count": null,
   "metadata": {
    "execution": {
     "iopub.execute_input": "2023-05-12T10:02:59.155943Z",
     "iopub.status.busy": "2023-05-12T10:02:59.154843Z",
     "iopub.status.idle": "2023-05-12T10:02:59.395574Z",
     "shell.execute_reply": "2023-05-12T10:02:59.394126Z",
     "shell.execute_reply.started": "2023-05-12T10:02:59.155891Z"
    }
   },
   "outputs": [],
   "source": [
    "from keras.layers import Input, Conv2D, MaxPooling2D, Flatten, Dense, Attention, Dropout\n",
    "from keras.models import Model\n",
    "\n",
    "# Define the input layer\n",
    "inputs = layers.Input(shape=(200, 200, 1))\n",
    "\n",
    "# Define the first set of CNN layers\n",
    "conv1 = layers.Conv2D(filters=32, kernel_size=3, activation='relu', padding='same')(inputs)\n",
    "avg_pool1 = layers.AveragePooling2D(pool_size=(2,2))(conv1)\n",
    "\n",
    "conv2 = layers.Conv2D(filters=64, kernel_size=3, activation='relu', padding='same')(avg_pool1)\n",
    "avg_pool2 = layers.AveragePooling2D(pool_size=(2,2))(conv2)\n",
    "\n",
    "conv3 = layers.Conv2D(filters=128, kernel_size=3, activation='relu', padding='same')(avg_pool2)\n",
    "avg_pool3 = layers.AveragePooling2D(pool_size=(2,2))(conv3)\n",
    "\n",
    "conv4 = layers.Conv2D(filters=256, kernel_size=3, activation='relu', padding='same')(avg_pool3)\n",
    "avg_pool4 = layers.AveragePooling2D(pool_size=(2,2))(conv4)\n",
    "\n",
    "\n",
    "\n",
    "attn1 = SqueezeAndExcitation(avg_pool4)\n",
    "\n",
    "x = layers.GlobalAveragePooling2D()(attn1)\n",
    "\n",
    "\n",
    "x = layers.Dense(256, activation='relu')(x)\n",
    "\n",
    "x = layers.Dense(256, activation='relu')(x)\n",
    "\n",
    "# Add the final output layer\n",
    "outputs = layers.Dense(104, activation='softmax')(x)\n",
    "\n",
    "# Create the model\n",
    "final_cnn = Model(inputs, outputs, name='cnn_with_attention')\n",
    "\n",
    "final_cnn.compile(loss='sparse_categorical_crossentropy', optimizer='adam', metrics=['sparse_categorical_accuracy',])\n",
    "\n",
    "final_cnn.summary()\n"
   ]
  },
  {
   "cell_type": "code",
   "execution_count": null,
   "metadata": {
    "execution": {
     "iopub.execute_input": "2023-05-12T05:48:18.226764Z",
     "iopub.status.busy": "2023-05-12T05:48:18.226347Z",
     "iopub.status.idle": "2023-05-12T06:04:29.780314Z",
     "shell.execute_reply": "2023-05-12T06:04:29.779236Z",
     "shell.execute_reply.started": "2023-05-12T05:48:18.226731Z"
    }
   },
   "outputs": [],
   "source": [
    "from tqdm.keras import TqdmCallback\n",
    "from keras.callbacks import ReduceLROnPlateau\n",
    "\n",
    "\n",
    "checkpoint_filepath = 'working/best_age_model_attention'\n",
    "model_checkpoint_callback = tf.keras.callbacks.ModelCheckpoint(\n",
    "    filepath=checkpoint_filepath,\n",
    "    save_weights_only=True,\n",
    "    monitor='val_loss',\n",
    "    mode='min',\n",
    "    save_best_only=True)\n",
    "\n",
    "\n",
    "early_stopping = keras.callbacks.EarlyStopping(\n",
    "    monitor=\"val_loss\",\n",
    "    patience=7,\n",
    "    verbose=2\n",
    ")\n",
    "\n",
    "reduce_learning_rate = ReduceLROnPlateau(\n",
    "                                    monitor=\"val_loss\",\n",
    "                                    patience=3, \n",
    "                                    episilon= 0.01,\n",
    "                                    factor=0.1,  \n",
    "                                    cooldown = 4, \n",
    "                                    verbose=2)\n",
    "                            \n",
    "# Fitting the above created CNN model.\n",
    "final_cnn_history = final_cnn.fit(train_aug_dataset,\n",
    "                                  batch_size=128,\n",
    "                                  validation_data=test_dataset,\n",
    "                                  epochs=50,\n",
    "                                  callbacks=[reduce_learning_rate, model_checkpoint_callback, early_stopping, tensorboard,\n",
    "                                             TqdmCallback()],\n",
    "                                  verbose=2,\n",
    "                                  shuffle=False    \n",
    "                                 )"
   ]
  },
  {
   "cell_type": "code",
   "execution_count": null,
   "metadata": {
    "execution": {
     "iopub.execute_input": "2023-05-12T06:05:33.286866Z",
     "iopub.status.busy": "2023-05-12T06:05:33.285901Z",
     "iopub.status.idle": "2023-05-12T06:05:33.328261Z",
     "shell.execute_reply": "2023-05-12T06:05:33.327248Z",
     "shell.execute_reply.started": "2023-05-12T06:05:33.286831Z"
    }
   },
   "outputs": [],
   "source": [
    "\n",
    "final_cnn.load_weights(checkpoint_filepath)"
   ]
  },
  {
   "cell_type": "code",
   "execution_count": null,
   "metadata": {
    "execution": {
     "iopub.execute_input": "2023-05-12T06:05:37.530921Z",
     "iopub.status.busy": "2023-05-12T06:05:37.530541Z",
     "iopub.status.idle": "2023-05-12T06:05:38.031018Z",
     "shell.execute_reply": "2023-05-12T06:05:38.029956Z",
     "shell.execute_reply.started": "2023-05-12T06:05:37.530888Z"
    }
   },
   "outputs": [],
   "source": [
    "# Checking the train and test loss and accuracy values from the neural network above.\n",
    "train_loss = final_cnn_history.history['loss']\n",
    "test_loss = final_cnn_history.history['val_loss']\n",
    "train_accuracy = final_cnn_history.history['sparse_categorical_accuracy']\n",
    "test_accuracy = final_cnn_history.history['val_sparse_categorical_accuracy'] \n",
    "\n",
    "# Plotting a line chart to visualize the loss and accuracy values by epochs.\n",
    "fig, ax = plt.subplots(ncols=2, figsize=(15,7))\n",
    "ax = ax.ravel()\n",
    "ax[0].plot(train_loss, label='Train Loss', color='royalblue', marker='o', markersize=5)\n",
    "ax[0].plot(test_loss, label='Test Loss', color = 'orangered', marker='o', markersize=5)\n",
    "ax[0].set_xlabel('Epochs', fontsize=14)\n",
    "ax[0].set_ylabel('Loss', fontsize=14)\n",
    "ax[0].legend(fontsize=14)\n",
    "ax[0].tick_params(axis='both', labelsize=12)\n",
    "ax[1].plot(train_accuracy, label='Train Accuracy', color='royalblue', marker='o', markersize=5)\n",
    "ax[1].plot(test_accuracy, label='Test Accuracy', color='orangered', marker='o', markersize=5)\n",
    "ax[1].set_xlabel('Epochs', fontsize=14)\n",
    "ax[1].set_ylabel('Accuracy', fontsize=14)\n",
    "ax[1].legend(fontsize=14)\n",
    "ax[1].tick_params(axis='both', labelsize=12)\n",
    "fig.suptitle(x=0.5, y=0.92, t=\"Lineplots showing loss and accuracy of our model by epochs\", fontsize=16)\n"
   ]
  },
  {
   "cell_type": "code",
   "execution_count": null,
   "metadata": {
    "execution": {
     "iopub.execute_input": "2023-05-12T06:06:11.779887Z",
     "iopub.status.busy": "2023-05-12T06:06:11.779488Z",
     "iopub.status.idle": "2023-05-12T06:06:16.564481Z",
     "shell.execute_reply": "2023-05-12T06:06:16.563421Z",
     "shell.execute_reply.started": "2023-05-12T06:06:11.779853Z"
    }
   },
   "outputs": [],
   "source": [
    "# Evaluating the model on test dataset.\n",
    "final_cnn_score = final_cnn.evaluate(test_dataset, verbose=1)\n",
    "# Printing the relevant score summary.\n",
    "final_cnn_labels = final_cnn.metrics_names\n",
    "print(f'CNN model {final_cnn_labels[0]} \\t\\t= {round(final_cnn_score[0], 3)}')\n",
    "print(f'CNN model {final_cnn_labels[1]} \\t= {round(final_cnn_score[1], 3)}')\n",
    "\n",
    "\n",
    "# Generating predictions from the model above.\n",
    "final_cnn_pred = final_cnn.predict(test_dataset)\n",
    "final_cnn_pred = final_cnn_pred.argmax(axis=-1)"
   ]
  },
  {
   "cell_type": "code",
   "execution_count": null,
   "metadata": {},
   "outputs": [],
   "source": []
  },
  {
   "cell_type": "code",
   "execution_count": null,
   "metadata": {
    "execution": {
     "iopub.execute_input": "2023-05-10T10:59:30.186996Z",
     "iopub.status.busy": "2023-05-10T10:59:30.186405Z",
     "iopub.status.idle": "2023-05-10T10:59:30.207665Z",
     "shell.execute_reply": "2023-05-10T10:59:30.206663Z",
     "shell.execute_reply.started": "2023-05-10T10:59:30.186946Z"
    }
   },
   "outputs": [],
   "source": [
    "chk = pd.DataFrame()\n",
    "chk['prediction'] = final_cnn_pred;\n",
    "chk['actual'] = test_labels_list;\n",
    "chk.head(50)"
   ]
  },
  {
   "cell_type": "code",
   "execution_count": null,
   "metadata": {
    "execution": {
     "iopub.execute_input": "2023-05-10T13:11:03.793385Z",
     "iopub.status.busy": "2023-05-10T13:11:03.792948Z",
     "iopub.status.idle": "2023-05-10T13:11:03.811439Z",
     "shell.execute_reply": "2023-05-10T13:11:03.810468Z",
     "shell.execute_reply.started": "2023-05-10T13:11:03.793336Z"
    }
   },
   "outputs": [],
   "source": [
    "chk = pd.DataFrame()\n",
    "chk['prediction'] = final_cnn_pred;\n",
    "chk['actual'] = test_labels_list;\n",
    "chk.head(50)"
   ]
  },
  {
   "cell_type": "code",
   "execution_count": null,
   "metadata": {
    "execution": {
     "iopub.execute_input": "2023-05-10T11:45:14.339050Z",
     "iopub.status.busy": "2023-05-10T11:45:14.338682Z",
     "iopub.status.idle": "2023-05-10T11:45:14.348191Z",
     "shell.execute_reply": "2023-05-10T11:45:14.347096Z",
     "shell.execute_reply.started": "2023-05-10T11:45:14.339020Z"
    }
   },
   "outputs": [],
   "source": [
    "from sklearn.metrics import mean_absolute_error as mae\n",
    "mae(test_labels_list, final_cnn_pred)"
   ]
  },
  {
   "cell_type": "code",
   "execution_count": null,
   "metadata": {},
   "outputs": [],
   "source": []
  }
 ],
 "metadata": {
  "kernelspec": {
   "display_name": "Python 3 (ipykernel)",
   "language": "python",
   "name": "python3"
  },
  "language_info": {
   "codemirror_mode": {
    "name": "ipython",
    "version": 3
   },
   "file_extension": ".py",
   "mimetype": "text/x-python",
   "name": "python",
   "nbconvert_exporter": "python",
   "pygments_lexer": "ipython3",
   "version": "3.9.13"
  }
 },
 "nbformat": 4,
 "nbformat_minor": 4
}
